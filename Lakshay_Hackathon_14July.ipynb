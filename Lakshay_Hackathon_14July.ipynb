{
 "cells": [
  {
   "cell_type": "markdown",
   "id": "8b451ed5",
   "metadata": {},
   "source": [
    "## LearnX Sales Forecasting"
   ]
  },
  {
   "cell_type": "markdown",
   "id": "387f7e09",
   "metadata": {},
   "source": [
    "<h3>Your task is to predict the course sales for each course in the test set for the next 60 days </h3>"
   ]
  },
  {
   "cell_type": "markdown",
   "id": "788639d6",
   "metadata": {},
   "source": [
    "<h5> We will predict the User_Traffic values from the training data for the Test data. With this new Test data, we will predict the sales value for it </h5>"
   ]
  },
  {
   "cell_type": "code",
   "execution_count": null,
   "id": "d3fc3322",
   "metadata": {},
   "outputs": [],
   "source": [
    "#Importing all required packages\n",
    "import pandas as pd\n",
    "import matplotlib.pyplot as plt\n",
    "import seaborn as sns\n",
    "import numpy as np\n",
    "from sklearn.model_selection import train_test_split\n",
    "from sklearn.preprocessing import StandardScaler, MinMaxScaler\n",
    "from sklearn.preprocessing import LabelEncoder \n",
    "from sklearn.neighbors import KNeighborsClassifier as KNN\n",
    "from sklearn.metrics import accuracy_score, recall_score, f1_score\n",
    "from sklearn.metrics import mean_squared_log_error as msle\n",
    "from sklearn.linear_model import LinearRegression as LR\n",
    "from imblearn.over_sampling import SMOTE\n"
   ]
  },
  {
   "cell_type": "code",
   "execution_count": null,
   "id": "76f91ac6",
   "metadata": {},
   "outputs": [],
   "source": [
    "#Reading data from csv files\n",
    "train_data = pd.read_csv(\"train_data.csv\")\n",
    "test_data = pd.read_csv(\"test_data.csv\")\n",
    "\n",
    "train_data.shape, test_data.shape"
   ]
  },
  {
   "cell_type": "code",
   "execution_count": null,
   "id": "5b22c088",
   "metadata": {},
   "outputs": [],
   "source": []
  },
  {
   "cell_type": "code",
   "execution_count": null,
   "id": "0bdc6b1a",
   "metadata": {},
   "outputs": [],
   "source": [
    "train_data.dtypes"
   ]
  },
  {
   "cell_type": "code",
   "execution_count": null,
   "id": "4b3e068e",
   "metadata": {},
   "outputs": [],
   "source": [
    "train_data['Public_Holiday'].value_counts()"
   ]
  },
  {
   "cell_type": "code",
   "execution_count": null,
   "id": "d759095f",
   "metadata": {},
   "outputs": [],
   "source": [
    "train_data['Competition_Metric'].value_counts()"
   ]
  },
  {
   "cell_type": "code",
   "execution_count": null,
   "id": "ebf97ea1",
   "metadata": {},
   "outputs": [],
   "source": [
    "train_data.isnull().sum()"
   ]
  },
  {
   "cell_type": "code",
   "execution_count": null,
   "id": "be833763",
   "metadata": {},
   "outputs": [],
   "source": [
    "#Checking for the KDE plot of Competition Metric.\n",
    "#Since the Spread was Right_skewed, we will calculate the log of the variable scaled to 100\n",
    "# This gave a normal-like distribution\n",
    "sns.kdeplot(train_data['Competition_Metric'], shade =True)"
   ]
  },
  {
   "cell_type": "code",
   "execution_count": null,
   "id": "41ede807",
   "metadata": {},
   "outputs": [],
   "source": [
    "train_data['Competition_Metric'].isnull().sum()"
   ]
  },
  {
   "cell_type": "markdown",
   "id": "8572463b",
   "metadata": {},
   "source": [
    "Since we have very few values of NA for Competition metric as compared to the dataset size, we will drop those rows.\n",
    "\n",
    "Then we will now Do One-Hot Encoding for Course_Domain and Course_type Variables\n",
    "And perform the log for Competition Metric and scale it to 100 first"
   ]
  },
  {
   "cell_type": "code",
   "execution_count": null,
   "id": "a64d88eb",
   "metadata": {},
   "outputs": [],
   "source": [
    "#Creating a duplicate for Train_data\n",
    "train_data_transformed = train_data\n",
    "\n",
    "#Replacing the null values in Competition Metric with the mean value\n",
    "train_data_transformed['Competition_Metric'] = train_data_transformed['Competition_Metric'].fillna(train_data_transformed['Competition_Metric'].mean())\n",
    "\n",
    "# typecasting Object variables to category\n",
    "train_data_transformed['Course_Domain'] = train_data_transformed['Course_Domain'].astype('category')\n",
    "train_data_transformed['Course_Type'] = train_data_transformed['Course_Type'].astype('category')\n",
    "\n",
    "\n",
    "#Instead of Hot encoding, trying Label Encoding\n",
    "le = LabelEncoder()\n",
    "\n",
    "train_data_transformed['Course_Domain'] = le.fit_transform(train_data_transformed['Course_Domain'])\n",
    "train_data_transformed['Course_Type'] = le.fit_transform(train_data_transformed['Course_Type'])\n",
    "\n",
    "#Log for Scaled Competition metric\n",
    "train_data_transformed['Competition_Metric'] = train_data_transformed['Competition_Metric'] *100\n",
    "train_data_transformed['Competition_Metric'] = np.log(train_data_transformed['Competition_Metric'] + 0.1)"
   ]
  },
  {
   "cell_type": "code",
   "execution_count": null,
   "id": "cc8502fe",
   "metadata": {},
   "outputs": [],
   "source": []
  },
  {
   "cell_type": "markdown",
   "id": "e60c35a7",
   "metadata": {},
   "source": [
    "Will Convert the train data to drop User Traffic and sales columns to feed into the Linear Regression Model"
   ]
  },
  {
   "cell_type": "code",
   "execution_count": null,
   "id": "828b504c",
   "metadata": {},
   "outputs": [],
   "source": [
    "train_data_model_x = train_data_transformed.drop(['User_Traffic','Sales'], axis = 1)\n",
    "train_data_model_y = train_data_transformed['User_Traffic']"
   ]
  },
  {
   "cell_type": "markdown",
   "id": "f5985c27",
   "metadata": {},
   "source": [
    "<h5> Will now do the transformations required to do on test Data to get it at par with train data</h5"
   ]
  },
  {
   "cell_type": "code",
   "execution_count": null,
   "id": "cbc02c05",
   "metadata": {},
   "outputs": [],
   "source": [
    "# Creating a duplicate of the test_data and performing the transformations on the test data model df\n",
    "test_data_model = test_data\n",
    "\n",
    "#Replacing the null values in Competition Metric with the mean value\n",
    "test_data_model['Competition_Metric'] = test_data_model['Competition_Metric'].fillna(test_data_model['Competition_Metric'].mean())\n",
    "\n",
    "# typecasting Object variables to category\n",
    "test_data_model['Course_Domain'] = test_data_model['Course_Domain'].astype('category')\n",
    "test_data_model['Course_Type'] = test_data_model['Course_Type'].astype('category')\n",
    "\n",
    "\n",
    "#Instead of Hot encoding, trying Label Encoding\n",
    "le = LabelEncoder()\n",
    "\n",
    "test_data_model['Course_Domain'] = le.fit_transform(test_data_model['Course_Domain'])\n",
    "test_data_model['Course_Type'] = le.fit_transform(test_data_model['Course_Type'])\n",
    "\n",
    "#Log for Scaled Competition metric\n",
    "test_data_model['Competition_Metric'] = test_data_model['Competition_Metric'] *100\n",
    "test_data_model['Competition_Metric'] = np.log(test_data_model['Competition_Metric'] + 0.1)"
   ]
  },
  {
   "cell_type": "code",
   "execution_count": null,
   "id": "02f4ee7b",
   "metadata": {},
   "outputs": [],
   "source": [
    "train_data_model_x.shape, test_data_model.shape"
   ]
  },
  {
   "cell_type": "markdown",
   "id": "89500111",
   "metadata": {},
   "source": [
    "<h5>We now have train data and test data in similar formats\n",
    "Will begin to apply linear regression to predict \"User_traffic\"</h5>"
   ]
  },
  {
   "cell_type": "code",
   "execution_count": null,
   "id": "0ae0178a",
   "metadata": {},
   "outputs": [],
   "source": [
    "lr = LR()\n",
    "\n",
    "#Fitting the Linear Regression Model\n",
    "lr.fit(train_data_model_x,train_data_model_y)\n",
    "train_data_model_yhat = lr.predict(train_data_model_x)\n",
    "\n",
    "#Checking for the Root Mean Square Log error\n",
    "train_score = msle(train_data_model_y,train_data_model_yhat)\n",
    "\n",
    "np.sqrt(train_score) * 1000"
   ]
  },
  {
   "cell_type": "markdown",
   "id": "6491942c",
   "metadata": {},
   "source": [
    "We will now proceed to predict the \"User_traffic\" values for the Testing data    "
   ]
  },
  {
   "cell_type": "code",
   "execution_count": null,
   "id": "bb122c47",
   "metadata": {},
   "outputs": [],
   "source": [
    "test_uh = lr.predict(test_data_model)\n",
    "test_data_uh = test_data_model\n",
    "test_data_uh['User_Traffic'] = test_uh\n",
    "test_data_uh.shape"
   ]
  },
  {
   "cell_type": "markdown",
   "id": "d103b3c8",
   "metadata": {},
   "source": [
    "<h5> We have successfully predicted the User_Traffic for the Testing data.</h5>\n",
    "<h6> Now we shall begin to Train and predict for Sales values </h6>"
   ]
  },
  {
   "cell_type": "code",
   "execution_count": null,
   "id": "8ad4cab2",
   "metadata": {},
   "outputs": [],
   "source": [
    "# Re-creating the Training data to accommodate for the User_Traffic values\n",
    "train_data_model_x = train_data_transformed.drop(['Sales'], axis = 1)\n",
    "train_data_model_y = train_data_transformed['Sales']"
   ]
  },
  {
   "cell_type": "code",
   "execution_count": null,
   "id": "9814d4bf",
   "metadata": {},
   "outputs": [],
   "source": [
    "sns.kdeplot(train_data_model_x['User_Traffic'], shade = True)"
   ]
  },
  {
   "cell_type": "markdown",
   "id": "73f58583",
   "metadata": {},
   "source": [
    "Since the User_Traffic Metric is Right Skewed, we will perform sqrt function on it to transform the variable.\n",
    "This will apply to both the train and test data"
   ]
  },
  {
   "cell_type": "code",
   "execution_count": null,
   "id": "be28342f",
   "metadata": {},
   "outputs": [],
   "source": [
    "# Applying Log transformation to User_Traffic metric to account for the Right skewed distribution\n",
    "train_data_model_x['User_Traffic'] = np.sqrt(train_data_model_x['User_Traffic'])\n",
    "test_data_uh['User_Traffic'] = np.sqrt(test_data_uh['User_Traffic'])"
   ]
  },
  {
   "cell_type": "code",
   "execution_count": null,
   "id": "f6148705",
   "metadata": {},
   "outputs": [],
   "source": [
    "lr = LR()\n",
    "\n",
    "#Fitting the Linear Regression Model\n",
    "lr.fit(train_data_model_x,train_data_model_y)\n",
    "train_data_model_yhat = lr.predict(train_data_model_x)\n",
    "\n",
    "#Since few values were being predicted < 0 so replacing them with 1 for the time being\n",
    "train_data_model_yhat = np.where(train_data_model_yhat < 0, 1, train_data_model_yhat)\n",
    "\n",
    "##Checking for the Root Mean Square Log error\n",
    "train_score = msle(train_data_model_y,train_data_model_yhat)\n",
    "\n",
    "np.sqrt(train_score) * 1000"
   ]
  },
  {
   "cell_type": "markdown",
   "id": "7407c631",
   "metadata": {},
   "source": [
    "We will now predic the sales value for Test data "
   ]
  },
  {
   "cell_type": "code",
   "execution_count": null,
   "id": "46f1bcc5",
   "metadata": {},
   "outputs": [],
   "source": [
    "test_sales = lr.predict(test_data_uh)\n",
    "\n",
    "test_sales_submit = pd.DataFrame(test_data_uh['ID'])\n",
    "test_sales_submit['Sales'] = test_sales\n",
    "\n",
    "test_sales_submit.set_index('ID', inplace = True)\n",
    "\n",
    "test_sales_submit.to_csv('Lakshay_submit.csv')"
   ]
  },
  {
   "cell_type": "markdown",
   "id": "edab6c6c",
   "metadata": {},
   "source": [
    "<h2> We will try to Re-create the model this time without predicting User_Traffic </h2>"
   ]
  },
  {
   "cell_type": "code",
   "execution_count": null,
   "id": "9444b1f4",
   "metadata": {},
   "outputs": [],
   "source": [
    "train_data = pd.read_csv(\"train_data.csv\")\n",
    "\n",
    "#Creating a duplicate for Train_data\n",
    "train_data_transformed = train_data\n",
    "\n",
    "#Replacing the null values in Competition Metric with the mean value\n",
    "train_data_transformed['Competition_Metric'] = train_data_transformed['Competition_Metric'].fillna(train_data_transformed['Competition_Metric'].mean())\n",
    "\n",
    "# typecasting Object variables to category\n",
    "train_data_transformed['Course_Domain'] = train_data_transformed['Course_Domain'].astype('category')\n",
    "train_data_transformed['Course_Type'] = train_data_transformed['Course_Type'].astype('category')\n",
    "\n",
    "\n",
    "#Instead of Hot encoding, trying Label Encoding\n",
    "le = LabelEncoder()\n",
    "\n",
    "train_data_transformed['Course_Domain'] = le.fit_transform(train_data_transformed['Course_Domain'])\n",
    "train_data_transformed['Course_Type'] = le.fit_transform(train_data_transformed['Course_Type'])\n",
    "\n",
    "#Log for Scaled Competition metric\n",
    "train_data_transformed['Competition_Metric'] = np.sqrt(train_data_transformed['Competition_Metric'])"
   ]
  },
  {
   "cell_type": "code",
   "execution_count": null,
   "id": "b506a1b0",
   "metadata": {},
   "outputs": [],
   "source": [
    "test_data = pd.read_csv(\"test_data.csv\")\n",
    "\n",
    "# Creating a duplicate of the test_data and performing the transformations on the test data model df\n",
    "test_data_model = test_data\n",
    "\n",
    "#Replacing the null values in Competition Metric with the mean value\n",
    "test_data_model['Competition_Metric'] = test_data_model['Competition_Metric'].fillna(test_data_model['Competition_Metric'].mean())\n",
    "\n",
    "# typecasting Object variables to category\n",
    "test_data_model['Course_Domain'] = test_data_model['Course_Domain'].astype('category')\n",
    "test_data_model['Course_Type'] = test_data_model['Course_Type'].astype('category')\n",
    "\n",
    "\n",
    "#Instead of Hot encoding, trying Label Encoding\n",
    "le = LabelEncoder()\n",
    "\n",
    "test_data_model['Course_Domain'] = le.fit_transform(test_data_model['Course_Domain'])\n",
    "test_data_model['Course_Type'] = le.fit_transform(test_data_model['Course_Type'])\n",
    "\n",
    "#Log for Scaled Competition metric\n",
    "\n",
    "test_data_model['Competition_Metric'] = np.sqrt(test_data_model['Competition_Metric'])"
   ]
  },
  {
   "cell_type": "code",
   "execution_count": null,
   "id": "e062ec66",
   "metadata": {},
   "outputs": [],
   "source": [
    "train_data_model_x = train_data_transformed.drop(['User_Traffic','Sales'], axis = 1)\n",
    "train_data_model_y = train_data_transformed['Sales']\n",
    "\n",
    "lr = LR()\n",
    "\n",
    "#Fitting the Linear Regression Model\n",
    "lr.fit(train_data_model_x,train_data_model_y)\n",
    "train_data_model_yhat = lr.predict(train_data_model_x)\n",
    "\n",
    "#Since few values were being predicted < 0 so replacing them with 1 for the time being\n",
    "train_data_model_yhat = np.where(train_data_model_yhat < 0, 1, train_data_model_yhat)\n",
    "\n",
    "##Checking for the Root Mean Square Log error\n",
    "train_score = msle(train_data_model_y,train_data_model_yhat)\n",
    "\n",
    "np.sqrt(train_score) * 1000"
   ]
  },
  {
   "cell_type": "code",
   "execution_count": null,
   "id": "77905317",
   "metadata": {},
   "outputs": [],
   "source": [
    "test_sales = lr.predict(test_data_model)\n",
    "\n",
    "test_sales_submit = pd.DataFrame(test_data_model['ID'])\n",
    "test_sales_submit['Sales'] = test_sales\n",
    "\n",
    "test_sales_submit.set_index('ID', inplace = True)\n",
    "\n",
    "test_sales_submit.to_csv('Lakshay_submit_3.csv')"
   ]
  },
  {
   "cell_type": "code",
   "execution_count": null,
   "id": "25cb5bbc",
   "metadata": {},
   "outputs": [],
   "source": []
  }
 ],
 "metadata": {
  "kernelspec": {
   "display_name": "Python 3",
   "language": "python",
   "name": "python3"
  },
  "language_info": {
   "codemirror_mode": {
    "name": "ipython",
    "version": 3
   },
   "file_extension": ".py",
   "mimetype": "text/x-python",
   "name": "python",
   "nbconvert_exporter": "python",
   "pygments_lexer": "ipython3",
   "version": "3.8.8"
  }
 },
 "nbformat": 4,
 "nbformat_minor": 5
}
